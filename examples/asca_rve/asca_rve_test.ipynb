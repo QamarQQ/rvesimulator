{
 "cells": [
  {
   "cell_type": "code",
   "execution_count": 1,
   "id": "5493b833",
   "metadata": {},
   "outputs": [],
   "source": [
    "# import needed libraries\n",
    "import sys\n",
    "from collections import OrderedDict\n",
    "\n",
    "from matplotlib import pyplot as plt\n",
    "\n",
    "# path of local project\n",
    "folder_path = \"/home/jiaxiangyi/Documents/rvesimulator\"\n",
    "sys.path.insert(0, folder_path)\n",
    "\n",
    "import rvesimulator\n",
    "from rvesimulator.design_of_experiment.samplers import FixNumberSampler\n",
    "from rvesimulator.simulators.asca_rve import AscaRVE"
   ]
  },
  {
   "cell_type": "code",
   "execution_count": 2,
   "id": "6b951885",
   "metadata": {},
   "outputs": [
    {
     "name": "stdout",
     "output_type": "stream",
     "text": [
      "{'samples':    vol_req\n",
      "0      0.3\n",
      "1      0.3\n",
      "2      0.3, 'responses':   vol_frac stress strain\n",
      "0      NaN    NaN    NaN\n",
      "1      NaN    NaN    NaN\n",
      "2      NaN    NaN    NaN}\n"
     ]
    }
   ],
   "source": [
    "# define the design space\n",
    "doe_variables = OrderedDict({\"vol_req\": 0.30})\n",
    "\n",
    "# define number of samples\n",
    "num_points = 3\n",
    "# define the information of outputs\n",
    "name_outputs = [\"vol_frac\", \"stress\", \"strain\"]\n",
    "doe_sampler = FixNumberSampler()\n",
    "doe_sampler.sampling(\n",
    "    num_samples=num_points,\n",
    "    design_space=doe_variables,\n",
    "    out_names=name_outputs,\n",
    "    seed=123456,\n",
    ")\n",
    "\n",
    "print(doe_sampler.data)"
   ]
  },
  {
   "cell_type": "code",
   "execution_count": 3,
   "id": "2662b888",
   "metadata": {},
   "outputs": [
    {
     "name": "stdout",
     "output_type": "stream",
     "text": [
      "geometry information of RVE: {'length': 0.048, 'width': 0.048, 'radius_mu': 0.003, 'radius_std': 0.0003}\n",
      "vol_req is: 0.3\n",
      "Info of Abaqus simulation : {'mesh_partition': 100, 'loads': [0.05, 0.0, 0.0], 'simulation_time': 1.0, 'num_cpu': 6, 'platform': 'ubuntu'} \n",
      "\n",
      "Time of generate the 2D RVE with volume fraction            = 0.30  is 0.02 s\n",
      "micro-structure be generated successfully\n",
      "\n",
      "Current working directory: /home/jiaxiangyi/Documents/rvesimulator/examples/asca_rve/Data/point_0\n",
      "##################################################\n",
      "############# START ABAQUS ANALYSIS #############\n",
      "##################################################\n"
     ]
    },
    {
     "name": "stderr",
     "output_type": "stream",
     "text": [
      "Abaqus License Manager checked out the following license:\n",
      "\"cae\" from Flexnet server flexserv1.tudelft.nl\n",
      "<21 out of 30 licenses remain available>.\n"
     ]
    },
    {
     "name": "stdout",
     "output_type": "stream",
     "text": [
      "simulation time :40.007809 s\n",
      "simulation time :60.019912 s\n",
      "simulation time :80.019939 s\n",
      "simulation time :100.019880 s\n",
      "simulation time :120.020208 s\n",
      "Simulation successfully finished! \n",
      "\n",
      "\n",
      "*** ABAQUS/ABQcaeK rank 0 terminated by signal 15 (Terminated)\n",
      "\n",
      "0\n",
      "time cost of this iteraion: 140.05125403404236\n",
      "##################################################\n",
      "########### START ABAQUS POST ANALYSIS ###########\n",
      "##################################################\n"
     ]
    },
    {
     "name": "stderr",
     "output_type": "stream",
     "text": [
      "Abaqus License Manager checked out the following license:\n",
      "\"cae\" from Flexnet server flexserv1.tudelft.nl\n",
      "<20 out of 30 licenses remain available>.\n"
     ]
    },
    {
     "name": "stdout",
     "output_type": "stream",
     "text": [
      "Abaqus Error: cae exited with an error.\n",
      "Time of generate the 2D RVE with volume fraction            = 0.30  is 0.01 s\n",
      "micro-structure be generated successfully\n",
      "\n",
      "Current working directory: /home/jiaxiangyi/Documents/rvesimulator/examples/asca_rve/Data/point_1\n",
      "##################################################\n",
      "############# START ABAQUS ANALYSIS #############\n",
      "##################################################\n"
     ]
    },
    {
     "name": "stderr",
     "output_type": "stream",
     "text": [
      "Abaqus License Manager checked out the following license:\n",
      "\"cae\" from Flexnet server flexserv1.tudelft.nl\n",
      "<21 out of 30 licenses remain available>.\n"
     ]
    },
    {
     "name": "stdout",
     "output_type": "stream",
     "text": [
      "simulation time :40.008053 s\n",
      "simulation time :60.020081 s\n",
      "simulation time :80.020240 s\n",
      "simulation time :100.020191 s\n",
      "simulation time :120.020342 s\n",
      "simulation time :140.020240 s\n",
      "Simulation successfully finished! \n",
      "\n",
      "\n",
      "*** ABAQUS/ABQcaeK rank 0 terminated by signal 15 (Terminated)\n",
      "\n",
      "0\n",
      "time cost of this iteraion: 160.08297967910767\n",
      "##################################################\n",
      "########### START ABAQUS POST ANALYSIS ###########\n",
      "##################################################\n",
      "Abaqus Error: cae exited with an error.\n"
     ]
    },
    {
     "name": "stderr",
     "output_type": "stream",
     "text": [
      "Abaqus License Manager checked out the following license:\n",
      "\"cae\" from Flexnet server flexserv1.tudelft.nl\n",
      "<21 out of 30 licenses remain available>.\n"
     ]
    },
    {
     "name": "stdout",
     "output_type": "stream",
     "text": [
      "Time of generate the 2D RVE with volume fraction            = 0.31  is 0.01 s\n",
      "micro-structure be generated successfully\n",
      "\n",
      "Current working directory: /home/jiaxiangyi/Documents/rvesimulator/examples/asca_rve/Data/point_2\n",
      "##################################################\n",
      "############# START ABAQUS ANALYSIS #############\n",
      "##################################################\n"
     ]
    },
    {
     "name": "stderr",
     "output_type": "stream",
     "text": [
      "Abaqus License Manager checked out the following license:\n",
      "\"cae\" from Flexnet server flexserv1.tudelft.nl\n",
      "<21 out of 30 licenses remain available>.\n"
     ]
    },
    {
     "name": "stdout",
     "output_type": "stream",
     "text": [
      "simulation time :40.006427 s\n",
      "simulation time :60.018445 s\n",
      "simulation time :80.018819 s\n",
      "simulation time :100.018804 s\n",
      "simulation time :120.018519 s\n",
      "simulation time :140.018527 s\n",
      "Simulation successfully finished! \n",
      "\n",
      "\n",
      "*** ABAQUS/ABQcaeK rank 0 terminated by signal 15 (Terminated)\n",
      "\n",
      "0\n",
      "time cost of this iteraion: 160.07560300827026\n",
      "##################################################\n",
      "########### START ABAQUS POST ANALYSIS ###########\n",
      "##################################################\n",
      "Abaqus Error: cae exited with an error.\n"
     ]
    },
    {
     "name": "stderr",
     "output_type": "stream",
     "text": [
      "Abaqus License Manager checked out the following license:\n",
      "\"cae\" from Flexnet server flexserv1.tudelft.nl\n",
      "<21 out of 30 licenses remain available>.\n"
     ]
    },
    {
     "name": "stdout",
     "output_type": "stream",
     "text": [
      "{'samples':    vol_req\n",
      "0      0.3\n",
      "1      0.3\n",
      "2      0.3, 'responses':    vol_frac                                             stress  \\\n",
      "0  0.303183  [[[0.0, 0.0], [0.0, 0.0]], [[0.029532410930091...   \n",
      "1  0.300264  [[[0.0, 0.0], [0.0, 0.0]], [[0.029212758545329...   \n",
      "2  0.307965  [[[0.0, 0.0], [0.0, 0.0]], [[0.032395705221236...   \n",
      "\n",
      "                                              strain  \n",
      "0  [[[0.0, 0.0], [0.0, 0.0]], [[0.000500125023764...  \n",
      "1  [[[0.0, 0.0], [0.0, 0.0]], [[0.000500125023860...  \n",
      "2  [[[0.0, 0.0], [0.0, 0.0]], [[0.000500125023860...  }\n"
     ]
    }
   ],
   "source": [
    "simulation_wrapper = AscaRVE()\n",
    "simulation_wrapper.update_sim_info(\n",
    "    print_info=True, mesh_partition=100, num_cpu=6, radius_mu=0.003, radius_std=0.0003, \n",
    ")\n",
    "data = simulation_wrapper.run_simulation(data=doe_sampler.data, )\n",
    "print(data)"
   ]
  },
  {
   "cell_type": "code",
   "execution_count": null,
   "id": "2f18850c",
   "metadata": {},
   "outputs": [],
   "source": [
    "import pandas as pd \n",
    "samples = data[\"samples\"]\n",
    "respones = data[\"responses\"]\n",
    "exp_data = pd.read_csv(\"Original data.csv\", header=None)\n",
    "pparam = dict(xlabel=\"$\\epsilon_{xx}$\", ylabel=\"$\\sigma_{xx}$ (MPa)\")\n",
    "\n",
    "fig, ax = plt.subplots(1,1, figsize=(5,4))\n",
    "ax.plot(exp_data.loc[:, 0], exp_data.loc[:, 1], label=\"Reference results\")\n",
    "ax.plot(\n",
    "    respones[\"strain\"][0][:, 0, 0],\n",
    "    respones[\"stress\"][0][:, 0, 0],\n",
    "    label=\"realization 1\",\n",
    ")\n",
    "ax.plot(\n",
    "    respones[\"strain\"][1][:, 0, 0],\n",
    "    respones[\"stress\"][1][:, 0, 0],\n",
    "    label=\"realization 2\",\n",
    ")\n",
    "ax.plot(\n",
    "    respones[\"strain\"][2][:, 0, 0],\n",
    "    respones[\"stress\"][2][:, 0, 0],\n",
    "    label=\"realization 2\",\n",
    ")\n",
    "ax.legend()\n",
    "ax.set(**pparam)\n",
    "\n"
   ]
  }
 ],
 "metadata": {
  "kernelspec": {
   "display_name": "MLenv3",
   "language": "python",
   "name": "python3"
  },
  "language_info": {
   "codemirror_mode": {
    "name": "ipython",
    "version": 3
   },
   "file_extension": ".py",
   "mimetype": "text/x-python",
   "name": "python",
   "nbconvert_exporter": "python",
   "pygments_lexer": "ipython3",
   "version": "3.10.6"
  },
  "toc": {
   "base_numbering": 1,
   "nav_menu": {},
   "number_sections": true,
   "sideBar": true,
   "skip_h1_title": false,
   "title_cell": "Table of Contents",
   "title_sidebar": "Contents",
   "toc_cell": false,
   "toc_position": {},
   "toc_section_display": true,
   "toc_window_display": false
  },
  "varInspector": {
   "cols": {
    "lenName": 16,
    "lenType": 16,
    "lenVar": 40
   },
   "kernels_config": {
    "python": {
     "delete_cmd_postfix": "",
     "delete_cmd_prefix": "del ",
     "library": "var_list.py",
     "varRefreshCmd": "print(var_dic_list())"
    },
    "r": {
     "delete_cmd_postfix": ") ",
     "delete_cmd_prefix": "rm(",
     "library": "var_list.r",
     "varRefreshCmd": "cat(var_dic_list()) "
    }
   },
   "types_to_exclude": [
    "module",
    "function",
    "builtin_function_or_method",
    "instance",
    "_Feature"
   ],
   "window_display": false
  },
  "vscode": {
   "interpreter": {
    "hash": "a7ec99c0764c3ae073753260e70d5f074aece2b4c42e82c20841eabec9072993"
   }
  }
 },
 "nbformat": 4,
 "nbformat_minor": 5
}
