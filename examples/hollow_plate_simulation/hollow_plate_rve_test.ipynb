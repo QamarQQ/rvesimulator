{
 "cells": [
  {
   "attachments": {},
   "cell_type": "markdown",
   "id": "21b922b3",
   "metadata": {},
   "source": [
    "# Case study: Hollow plate RVE \n",
    "## Problem definition\n",
    "In this part, we are trying to show how the developed RVE simulator works by a simple RVE case called hollow plate RVE. \n",
    "\n",
    "> The shematic of the RVE is given by \n",
    "\n",
    "<center><img src=\"illustration.png\" width=\"300\"></center>\n",
    "\n",
    "<center> Fig.schematics of the hollow plate RVE  </center>\n",
    "\n",
    "<br />\n",
    "\n",
    "> **Geometry parameters to describe the RVE**\n",
    "1. length: $L$, width: $W$. Usually, $L=W$; therefore, we only use one parameter (size) to define the shape of RVE \n",
    "2. radius: $R$, which is the radius of the plate inside the square \n",
    "\n",
    "> **Other parameters for simulation** \n",
    "1. Material parameters: \n",
    "- Young;s modulus, the default value is $100 \\mathrm{Mpa}$\n",
    "- Poission ratio , the default value is $0.3$ \n",
    "\n",
    "2. Loading: \n",
    "- $ [ E_{xx}, E_{yy}, E_{xy} ]$ \n",
    "\n",
    "3. Mesh:\n",
    "- mesh portion: divisions of every edges when meshing \n",
    "\n",
    "# Realization"
   ]
  },
  {
   "cell_type": "code",
   "execution_count": 1,
   "id": "231a01b1",
   "metadata": {},
   "outputs": [],
   "source": [
    "# import needed libraries\n",
    "import sys\n",
    "from collections import OrderedDict\n",
    "\n",
    "from matplotlib import pyplot as plt\n",
    "\n",
    "# path of local project\n",
    "folder_path = \"/home/jiaxiangyi/Documents/rvesimulator\"\n",
    "sys.path.insert(0, folder_path)\n",
    "\n",
    "from rvesimulator.design_of_experiment.samplers import RandomSampler\n",
    "from rvesimulator.simulators.hollow_plate_rve import HollowPlateRVE"
   ]
  },
  {
   "cell_type": "code",
   "execution_count": 2,
   "id": "6b951885",
   "metadata": {},
   "outputs": [
    {
     "name": "stdout",
     "output_type": "stream",
     "text": [
      "     radius      size\n",
      "0  0.138091  1.483359\n",
      "1  0.178143  1.448618\n",
      "2  0.213025  1.168111\n",
      "  stress strain\n",
      "0    NaN    NaN\n",
      "1    NaN    NaN\n",
      "2    NaN    NaN\n"
     ]
    }
   ],
   "source": [
    "# create the doe\n",
    "# define the design space\n",
    "doe_variables = OrderedDict({\"radius\": [0.10, 0.40], \"size\": [1.0, 1.5]})\n",
    "# define number of samples\n",
    "num_points = 3\n",
    "# define the information of outputs\n",
    "name_outputs = [\"stress\", \"strain\"]\n",
    "doe_sampler = RandomSampler()\n",
    "doe_sampler.sampling(\n",
    "    num_samples=num_points,\n",
    "    design_space=doe_variables,\n",
    "    out_names=name_outputs,\n",
    "    seed=123456,\n",
    ")\n",
    "\n",
    "print(doe_sampler.data['samples']) \n",
    "print(doe_sampler.data['responses'])"
   ]
  },
  {
   "cell_type": "code",
   "execution_count": 3,
   "id": "2662b888",
   "metadata": {},
   "outputs": [
    {
     "name": "stdout",
     "output_type": "stream",
     "text": [
      "The simulation information is : {'job_name': 'HollowPlateRVE', 'radius': 0.2, 'size': 1.0, 'youngs_modulus': 100.0, 'poission_ratio': 0.3, 'mesh_portion': 30, 'loads': [0.1, 0.0, 0.0], 'num_cpu': 1, 'platform': 'ubuntu'}\n",
      "The simulation information is : {'job_name': 'HollowPlateRVE', 'radius': 0.2, 'size': 1.0, 'youngs_modulus': 100.0, 'poission_ratio': 0.3, 'mesh_portion': 30, 'loads': [0.1, 0.0, 0.0], 'num_cpu': 1, 'platform': 'ubuntu'}\n"
     ]
    }
   ],
   "source": [
    "# initialize the abaqus simulator\n",
    "simulation_wrapper = HollowPlateRVE()\n",
    "# print the default simulaton information of the RVE \n",
    "simulation_wrapper.update_sim_info(print_info=True)"
   ]
  },
  {
   "cell_type": "code",
   "execution_count": 4,
   "id": "bf4eb305",
   "metadata": {},
   "outputs": [
    {
     "name": "stdout",
     "output_type": "stream",
     "text": [
      "The simulation information is : {'job_name': 'HollowPlateRVE', 'radius': 0.2, 'size': 1.0, 'youngs_modulus': 100.0, 'poission_ratio': 0.3, 'mesh_portion': 30, 'loads': [0.2, 0.05, 0.05], 'num_cpu': 1, 'platform': 'ubuntu'}\n"
     ]
    }
   ],
   "source": [
    "# update some information as you wish \n",
    "simulation_wrapper.update_sim_info(loads=[0.2, 0.05, 0.05], print_info=True) \n"
   ]
  },
  {
   "cell_type": "code",
   "execution_count": 5,
   "id": "e096cdf5",
   "metadata": {},
   "outputs": [
    {
     "name": "stdout",
     "output_type": "stream",
     "text": [
      "Current working directory: /home/jiaxiangyi/Documents/rvesimulator/examples/hollow_plate_simulation/Data/data\n",
      "##################################################\n",
      "############# START ABAQUS ANALYSIS #############\n",
      "##################################################\n"
     ]
    },
    {
     "name": "stderr",
     "output_type": "stream",
     "text": [
      "Abaqus License Manager checked out the following license:\n",
      "\"cae\" from Flexnet server flexserv1.tudelft.nl\n",
      "<13 out of 30 licenses remain available>.\n"
     ]
    },
    {
     "name": "stdout",
     "output_type": "stream",
     "text": [
      "Simulation successfully finished! \n",
      "\n",
      "\n",
      "*** ABAQUS/ABQcaeK rank 0 terminated by signal 15 (Terminated)\n",
      "\n",
      "0\n",
      "time cost of this iteraion: 40.076871395111084\n",
      "##################################################\n",
      "########### START ABAQUS POST ANALYSIS ###########\n",
      "##################################################\n",
      "Abaqus Error: cae exited with an error.\n"
     ]
    },
    {
     "name": "stderr",
     "output_type": "stream",
     "text": [
      "Abaqus License Manager checked out the following license:\n",
      "\"cae\" from Flexnet server flexserv1.tudelft.nl\n",
      "<13 out of 30 licenses remain available>.\n"
     ]
    },
    {
     "name": "stdout",
     "output_type": "stream",
     "text": [
      "Current working directory: /home/jiaxiangyi/Documents/rvesimulator/examples/hollow_plate_simulation/Data/data\n",
      "##################################################\n",
      "############# START ABAQUS ANALYSIS #############\n",
      "##################################################\n"
     ]
    },
    {
     "name": "stderr",
     "output_type": "stream",
     "text": [
      "Abaqus License Manager checked out the following license:\n",
      "\"cae\" from Flexnet server flexserv1.tudelft.nl\n",
      "<13 out of 30 licenses remain available>.\n"
     ]
    },
    {
     "name": "stdout",
     "output_type": "stream",
     "text": [
      "Simulation successfully finished! \n",
      "\n",
      "\n",
      "*** ABAQUS/ABQcaeK rank 0 terminated by signal 15 (Terminated)\n",
      "\n",
      "0\n",
      "time cost of this iteraion: 40.06849026679993\n",
      "##################################################\n",
      "########### START ABAQUS POST ANALYSIS ###########\n",
      "##################################################\n",
      "Abaqus Error: cae exited with an error.\n"
     ]
    },
    {
     "name": "stderr",
     "output_type": "stream",
     "text": [
      "Abaqus License Manager checked out the following license:\n",
      "\"cae\" from Flexnet server flexserv1.tudelft.nl\n",
      "<13 out of 30 licenses remain available>.\n"
     ]
    },
    {
     "name": "stdout",
     "output_type": "stream",
     "text": [
      "Current working directory: /home/jiaxiangyi/Documents/rvesimulator/examples/hollow_plate_simulation/Data/data\n",
      "##################################################\n",
      "############# START ABAQUS ANALYSIS #############\n",
      "##################################################\n"
     ]
    },
    {
     "name": "stderr",
     "output_type": "stream",
     "text": [
      "Abaqus License Manager checked out the following license:\n",
      "\"cae\" from Flexnet server flexserv1.tudelft.nl\n",
      "<13 out of 30 licenses remain available>.\n"
     ]
    },
    {
     "name": "stdout",
     "output_type": "stream",
     "text": [
      "Simulation successfully finished! \n",
      "\n",
      "\n",
      "*** ABAQUS/ABQcaeK rank 0 terminated by signal 15 (Terminated)\n",
      "\n",
      "0\n",
      "time cost of this iteraion: 40.04993486404419\n",
      "##################################################\n",
      "########### START ABAQUS POST ANALYSIS ###########\n",
      "##################################################\n",
      "Abaqus Error: cae exited with an error.\n"
     ]
    },
    {
     "name": "stderr",
     "output_type": "stream",
     "text": [
      "Abaqus License Manager checked out the following license:\n",
      "\"cae\" from Flexnet server flexserv1.tudelft.nl\n",
      "<13 out of 30 licenses remain available>.\n"
     ]
    },
    {
     "name": "stdout",
     "output_type": "stream",
     "text": [
      "{'samples':      radius      size\n",
      "0  0.138091  1.483359\n",
      "1  0.178143  1.448618\n",
      "2  0.213025  1.168111, 'responses':                                               stress  \\\n",
      "0  [[[0.0, 0.0], [0.0, 0.0]], [[2.743545901882581...   \n",
      "1  [[[0.0, 0.0], [0.0, 0.0]], [[2.628595219418994...   \n",
      "2  [[[0.0, 0.0], [0.0, 0.0]], [[2.359207060740015...   \n",
      "\n",
      "                                              strain  \n",
      "0  [[[0.0, 0.0], [0.0, 0.0]], [[0.020212499543465...  \n",
      "1  [[[0.0, 0.0], [0.0, 0.0]], [[0.020212499543465...  \n",
      "2  [[[0.0, 0.0], [0.0, 0.0]], [[0.020212499543465...  }\n"
     ]
    }
   ],
   "source": [
    "# run the simulation \n",
    "data = simulation_wrapper.run_simulation(data=doe_sampler.data, save_source_files=False)\n",
    "print(data)"
   ]
  },
  {
   "cell_type": "code",
   "execution_count": 6,
   "id": "de5f7326",
   "metadata": {},
   "outputs": [
    {
     "name": "stdout",
     "output_type": "stream",
     "text": [
      "{'samples':      radius      size\n",
      "0  0.138091  1.483359\n",
      "1  0.178143  1.448618\n",
      "2  0.213025  1.168111, 'responses':                                               stress  \\\n",
      "0  [[[0.0, 0.0], [0.0, 0.0]], [[2.743545901882581...   \n",
      "1  [[[0.0, 0.0], [0.0, 0.0]], [[2.628595219418994...   \n",
      "2  [[[0.0, 0.0], [0.0, 0.0]], [[2.359207060740015...   \n",
      "\n",
      "                                              strain  \n",
      "0  [[[0.0, 0.0], [0.0, 0.0]], [[0.020212499543465...  \n",
      "1  [[[0.0, 0.0], [0.0, 0.0]], [[0.020212499543465...  \n",
      "2  [[[0.0, 0.0], [0.0, 0.0]], [[0.020212499543465...  }\n"
     ]
    }
   ],
   "source": [
    "# print the data set after simulation\n",
    "print(data)"
   ]
  },
  {
   "cell_type": "code",
   "execution_count": 8,
   "id": "2f18850c",
   "metadata": {},
   "outputs": [
    {
     "data": {
      "text/plain": [
       "Text(0.5, 0.98, 'simulation results')"
      ]
     },
     "execution_count": 8,
     "metadata": {},
     "output_type": "execute_result"
    },
    {
     "data": {
      "image/png": "[encoded data removed]",
      "text/plain": [
       "<Figure size 1500x300 with 3 Axes>"
      ]
     },
     "metadata": {},
     "output_type": "display_data"
    }
   ],
   "source": [
    "samples = data[\"samples\"]\n",
    "respones = data[\"responses\"]\n",
    "# define parameter of plot figures\n",
    "%matplotlib inline\n",
    "\n",
    "# with plt.style.context([\"science\", \"ieee\"]):\n",
    "fig, ax = plt.subplots(1, 3, figsize=(15, 3))\n",
    "pparam = dict(xlabel=\"$\\epsilon_{xx}$\", ylabel=\"$\\sigma_{xx}$ (MPa)\")\n",
    "ax[0].plot(\n",
    "    respones[\"strain\"][0][:, 0, 0],\n",
    "    respones[\"stress\"][0][:, 0, 0],\n",
    "    label=f'radius= {samples[\"radius\"][0]:3f}',\n",
    ")\n",
    "ax[0].plot(\n",
    "    respones[\"strain\"][1][:, 0, 0],\n",
    "    respones[\"stress\"][1][:, 0, 0],\n",
    "    label=f'radius= {samples[\"radius\"][1]:3f}',\n",
    ")\n",
    "ax[0].plot(\n",
    "    respones[\"strain\"][2][:, 0, 0],\n",
    "    respones[\"stress\"][2][:, 0, 0],\n",
    "    label=f'radius= {samples[\"radius\"][2]:3f}',\n",
    ")\n",
    "ax[0].legend()\n",
    "ax[0].set(**pparam)\n",
    "\n",
    "pparam = dict(xlabel=\"$\\epsilon_{yy}$\", ylabel=\"$\\sigma_{yy}$ (MPa)\")\n",
    "ax[1].plot(\n",
    "    respones[\"strain\"][0][:, 1, 1],\n",
    "    respones[\"stress\"][0][:, 1, 1],\n",
    "    label=f'radius= {samples[\"radius\"][0]:3f}',\n",
    ")\n",
    "ax[1].plot(\n",
    "    respones[\"strain\"][1][:, 1, 1],\n",
    "    respones[\"stress\"][1][:, 1, 1],\n",
    "    label=f'radius= {samples[\"radius\"][1]:3f}',\n",
    ")\n",
    "ax[1].plot(\n",
    "    respones[\"strain\"][2][:, 1, 1],\n",
    "    respones[\"stress\"][2][:, 1, 1],\n",
    "    label=f'radius= {samples[\"radius\"][2]:3f}',\n",
    ")\n",
    "ax[1].legend()\n",
    "ax[1].set(**pparam)\n",
    "\n",
    "pparam = dict(xlabel=\"$\\epsilon_{xy}$\", ylabel=\"$\\sigma_{xy}$ (MPa)\")\n",
    "ax[2].plot(\n",
    "    respones[\"strain\"][0][:, 1, 0],\n",
    "    respones[\"stress\"][0][:, 1, 0],\n",
    "    label=f'radius= {samples[\"radius\"][0]:2f}',\n",
    ")\n",
    "ax[2].plot(\n",
    "    respones[\"strain\"][1][:, 1, 0],\n",
    "    respones[\"stress\"][1][:, 1, 0],\n",
    "    label=f'radius= {samples[\"radius\"][1]:2f}',\n",
    ")\n",
    "ax[2].plot(\n",
    "    respones[\"strain\"][2][:, 1, 0],\n",
    "    respones[\"stress\"][2][:, 1, 0],\n",
    "    label=f'radius= {samples[\"radius\"][2]:2f}',\n",
    ")\n",
    "ax[2].legend()\n",
    "ax[2].set(**pparam)\n",
    "fig.suptitle('simulation results')"
   ]
  },
  {
   "cell_type": "code",
   "execution_count": null,
   "id": "0243a613",
   "metadata": {},
   "outputs": [],
   "source": []
  }
 ],
 "metadata": {
  "kernelspec": {
   "display_name": "MLenv3",
   "language": "python",
   "name": "python3"
  },
  "language_info": {
   "codemirror_mode": {
    "name": "ipython",
    "version": 3
   },
   "file_extension": ".py",
   "mimetype": "text/x-python",
   "name": "python",
   "nbconvert_exporter": "python",
   "pygments_lexer": "ipython3",
   "version": "3.10.6"
  },
  "toc": {
   "base_numbering": 1,
   "nav_menu": {},
   "number_sections": true,
   "sideBar": true,
   "skip_h1_title": false,
   "title_cell": "Table of Contents",
   "title_sidebar": "Contents",
   "toc_cell": false,
   "toc_position": {},
   "toc_section_display": true,
   "toc_window_display": false
  },
  "varInspector": {
   "cols": {
    "lenName": 16,
    "lenType": 16,
    "lenVar": 40
   },
   "kernels_config": {
    "python": {
     "delete_cmd_postfix": "",
     "delete_cmd_prefix": "del ",
     "library": "var_list.py",
     "varRefreshCmd": "print(var_dic_list())"
    },
    "r": {
     "delete_cmd_postfix": ") ",
     "delete_cmd_prefix": "rm(",
     "library": "var_list.r",
     "varRefreshCmd": "cat(var_dic_list()) "
    }
   },
   "types_to_exclude": [
    "module",
    "function",
    "builtin_function_or_method",
    "instance",
    "_Feature"
   ],
   "window_display": false
  },
  "vscode": {
   "interpreter": {
    "hash": "a7ec99c0764c3ae073753260e70d5f074aece2b4c42e82c20841eabec9072993"
   }
  }
 },
 "nbformat": 4,
 "nbformat_minor": 5
}
