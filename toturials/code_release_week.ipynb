{
 "cells": [
  {
   "cell_type": "markdown",
   "id": "12263a09",
   "metadata": {
    "slideshow": {
     "slide_type": "slide"
    }
   },
   "source": [
    "# Code release week (04/04/2023) \n",
    "\n",
    "\n",
    "## ABAQUS RVE simulator \n",
    "\n",
    "\n",
    "\n",
    "## Presenter: Jiaxiang Yi([J.Yi@tudelft.nl](mailto:J.Yi@tudelft.nl))"
   ]
  },
  {
   "cell_type": "markdown",
   "id": "54fcb549",
   "metadata": {
    "slideshow": {
     "slide_type": "subslide"
    }
   },
   "source": [
    "# Outline   \n",
    "\n",
    "## 1. Why I(We) need ABAQUS RVE simulator?\n",
    "\n",
    "## 2. Basics of RVE simulation \n",
    "\n",
    "## 3. Structure of the Repo \n",
    "\n",
    "## 4. How to run an RVE simulation via the code \n"
   ]
  },
  {
   "cell_type": "markdown",
   "id": "b4051bc8",
   "metadata": {
    "slideshow": {
     "slide_type": "slide"
    }
   },
   "source": [
    "\n",
    "## 1. Why I(We) need ABAQUS RVE simulator?\n"
   ]
  },
  {
   "cell_type": "markdown",
   "id": "45a1cfb8",
   "metadata": {
    "slideshow": {
     "slide_type": "subslide"
    }
   },
   "source": [
    "## Research Plan \n",
    "<center>\n",
    "     <img src=figures/F3DASM.png width=50%> \n",
    "</center>\n",
    "    \n",
    "---\n",
    "    \n",
    "- **Bottleneck** : generate large amount of simulation data *automatically*"
   ]
  },
  {
   "cell_type": "markdown",
   "id": "1dd9f375",
   "metadata": {
    "slideshow": {
     "slide_type": "slide"
    }
   },
   "source": [
    "## 2. Basics of RVE simulation"
   ]
  },
  {
   "cell_type": "markdown",
   "id": "32c2b721",
   "metadata": {
    "slideshow": {
     "slide_type": "subslide"
    }
   },
   "source": [
    "## Multiscale simulation ($FE^2 Analysis$)\n",
    "\n",
    "<center>\n",
    "     <img src=figures/fe2.png width=80%> \n",
    "</center>\n",
    "    "
   ]
  },
  {
   "cell_type": "markdown",
   "id": "44c3bb96",
   "metadata": {
    "slideshow": {
     "slide_type": "subslide"
    }
   },
   "source": [
    "## Procedure of RVE simulation\n",
    "\n",
    "\n",
    "<center>\n",
    "     <img src=figures/procedure_rve_simulation.png width=70%>  \n",
    "</center>"
   ]
  },
  {
   "cell_type": "markdown",
   "id": "ac6a225f",
   "metadata": {
    "slideshow": {
     "slide_type": "subslide"
    }
   },
   "source": [
    "## Procedure of RVE simulation\n",
    "\n",
    "\n",
    "<center>\n",
    "     <img src=figures/structure_python2.png width=60%>  \n",
    "</center>"
   ]
  },
  {
   "cell_type": "markdown",
   "id": "b42cd848",
   "metadata": {
    "slideshow": {
     "slide_type": "fragment"
    }
   },
   "source": [
    "### Not enough for generating large dataset"
   ]
  },
  {
   "cell_type": "markdown",
   "id": "f5f31f8c",
   "metadata": {
    "slideshow": {
     "slide_type": "slide"
    }
   },
   "source": [
    "\n",
    "## 3. Structure of the Repo "
   ]
  },
  {
   "cell_type": "markdown",
   "id": "5477a76b",
   "metadata": {
    "slideshow": {
     "slide_type": "subslide"
    }
   },
   "source": [
    "## "
   ]
  },
  {
   "cell_type": "code",
   "execution_count": null,
   "id": "97bb85c4",
   "metadata": {},
   "outputs": [],
   "source": []
  }
 ],
 "metadata": {
  "celltoolbar": "Slideshow",
  "kernelspec": {
   "display_name": "Python [conda env:f3dasm_env] *",
   "language": "python",
   "name": "conda-env-f3dasm_env-py"
  },
  "language_info": {
   "codemirror_mode": {
    "name": "ipython",
    "version": 3
   },
   "file_extension": ".py",
   "mimetype": "text/x-python",
   "name": "python",
   "nbconvert_exporter": "python",
   "pygments_lexer": "ipython3",
   "version": "3.10.10"
  }
 },
 "nbformat": 4,
 "nbformat_minor": 5
}
