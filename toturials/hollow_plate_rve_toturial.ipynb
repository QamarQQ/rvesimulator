{
 "cells": [
  {
   "attachments": {},
   "cell_type": "markdown",
   "id": "21b922b3",
   "metadata": {},
   "source": [
    "# Illustration: Hollow plate RVE \n",
    "## Problem definition\n",
    "In this part, we are trying to show how the developed RVE simulator works by a simple RVE case called hollow plate RVE. \n",
    "\n",
    "> The shematic of the RVE is given by \n",
    "\n",
    "<center><img src=\"hollow_plate_rve_schematic.png\" width=\"300\"></center>\n",
    "\n",
    "<center> Fig.schematics of the hollow plate RVE  </center>\n",
    "\n",
    "<br />\n",
    "\n",
    "> **Geometry parameters to describe the RVE**\n",
    "1. length: $L$, width: $W$. Usually, $L=W$; therefore, we only use one parameter (size) to define the shape of RVE \n",
    "2. radius: $R$, which is the radius of the plate inside the square \n",
    "\n",
    "> **Other parameters for simulation** \n",
    "1. Material parameters: \n",
    "- Young;s modulus, the default value is $100 \\mathrm{Mpa}$\n",
    "- Poission ratio , the default value is $0.3$ \n",
    "\n",
    "2. Loading: \n",
    "- $ [ E_{xx}, E_{yy}, E_{xy} ]$ \n",
    "\n",
    "3. Mesh:\n",
    "- mesh portion: divisions of every edges when meshing \n",
    "\n",
    "# Realization"
   ]
  },
  {
   "cell_type": "code",
   "execution_count": 1,
   "id": "231a01b1",
   "metadata": {},
   "outputs": [
    {
     "name": "stderr",
     "output_type": "stream",
     "text": [
      "2023-04-03 19:23:26,118 - Imported f3dasm\n",
      "2023-04-03 19:23:27.528014: I tensorflow/core/util/port.cc:110] oneDNN custom operations are on. You may see slightly different numerical results due to floating-point round-off errors from different computation orders. To turn them off, set the environment variable `TF_ENABLE_ONEDNN_OPTS=0`.\n",
      "2023-04-03 19:23:27.570002: I tensorflow/core/platform/cpu_feature_guard.cc:182] This TensorFlow binary is optimized to use available CPU instructions in performance-critical operations.\n",
      "To enable the following instructions: AVX2 AVX512F AVX512_VNNI FMA, in other operations, rebuild TensorFlow with the appropriate compiler flags.\n",
      "2023-04-03 19:23:28.292837: W tensorflow/compiler/tf2tensorrt/utils/py_utils.cc:38] TF-TRT Warning: Could not find TensorRT\n",
      "2023-04-03 19:23:28,919 - None\n"
     ]
    },
    {
     "name": "stdout",
     "output_type": "stream",
     "text": [
      "\n",
      "f3dasm:\n",
      "       f3dasm: No __version__ attribute!\n",
      "\n",
      "System:\n",
      "    python: 3.10.5 | packaged by conda-forge | (main, Jun 14 2022, 07:04:59) [GCC 10.3.0]\n",
      "executable: /home/jiaxiangyi/anaconda3/envs/f3dasm_env/bin/python\n",
      "   machine: Linux-5.19.0-38-generic-x86_64-with-glibc2.35\n",
      "\n",
      "Core package dependencies:\n",
      "        numpy: 1.23.1\n",
      "        scipy: 1.9.0\n",
      "       pandas: 1.4.3\n",
      "   matplotlib: 3.5.2\n",
      "       pathos: 0.3.0\n",
      "        hydra: 1.3.2\n",
      "     autograd: No __version__ attribute!\n",
      "\n",
      "Machine learning extension:\n",
      "   tensorflow: 2.12.0\n",
      "\n",
      "Optimization extension:\n",
      "       GPyOpt: 1.2.6\n",
      "          GPy: 1.10.0\n",
      "   tensorflow: 2.12.0\n",
      "        pygmo: 2.19.0\n",
      "\n",
      "Sampling extension:\n",
      "        SALib: 1.4.5\n"
     ]
    }
   ],
   "source": [
    "# import packages \n",
    "import f3dasm\n",
    "from matplotlib import pyplot as plt\n",
    "\n",
    "from rvesimulator.cases.hollow_plate_rve import NaiveHollowPlate\n"
   ]
  },
  {
   "cell_type": "code",
   "execution_count": 3,
   "id": "9b2f5ab2",
   "metadata": {},
   "outputs": [
    {
     "name": "stdout",
     "output_type": "stream",
     "text": [
      "Simulation information: \n",
      "\n",
      "{\n",
      "    \"job_name\": \"hollowplate\",\n",
      "    \"radius\": 0.2,\n",
      "    \"size\": 1.0,\n",
      "    \"youngs_modulus\": 100.0,\n",
      "    \"poisson_ratio\": 0.3,\n",
      "    \"mesh_portion\": 30,\n",
      "    \"strain\": [\n",
      "        0.05,\n",
      "        0.05,\n",
      "        0.05\n",
      "    ],\n",
      "    \"num_cpu\": 1,\n",
      "    \"platform\": \"ubuntu\"\n",
      "}\n"
     ]
    }
   ],
   "source": [
    "simulator = NaiveHollowPlate()\n",
    "simulator.update_sim_info(strain=[0.05, 0.05, 0.05], print_info=True)"
   ]
  },
  {
   "attachments": {},
   "cell_type": "markdown",
   "id": "37f02c93",
   "metadata": {},
   "source": [
    "## **First way of running simulation**"
   ]
  },
  {
   "cell_type": "code",
   "execution_count": 9,
   "id": "53222f7a",
   "metadata": {},
   "outputs": [
    {
     "name": "stdout",
     "output_type": "stream",
     "text": [
      "/home/jiaxiangyi/Documents/rvesimulator/toturials/Data/case_0\n",
      "##################################################\n",
      "############ start abaqus simulation ############\n",
      "##################################################\n"
     ]
    },
    {
     "name": "stderr",
     "output_type": "stream",
     "text": [
      "Abaqus License Manager checked out the following license:\n",
      "\"cae\" from Flexnet server flexserv1.tudelft.nl\n",
      "<21 out of 30 licenses remain available>.\n"
     ]
    },
    {
     "name": "stdout",
     "output_type": "stream",
     "text": [
      "\n",
      "*** ABAQUS/ABQcaeK rank 0 terminated by signal 15 (Terminated)\n",
      "\n",
      "simulation time :25.003792 s\n",
      "##################################################\n",
      "############## abaqus post analysis ##############\n",
      "##################################################\n",
      "Abaqus Error: cae exited with an error.\n"
     ]
    },
    {
     "name": "stderr",
     "output_type": "stream",
     "text": [
      "Abaqus License Manager checked out the following license:\n",
      "\"cae\" from Flexnet server flexserv1.tudelft.nl\n",
      "<21 out of 30 licenses remain available>.\n"
     ]
    }
   ],
   "source": [
    "# supposed the radius and size of rve are the design variables, and we want to retrive all outputs from abaqus simulation \n",
    "samples = {'radius': 0.2, 'size':1.0} \n",
    "result = simulator.run_simulation(sample=samples, third_folder_index=0)"
   ]
  },
  {
   "cell_type": "code",
   "execution_count": 11,
   "id": "6088449d",
   "metadata": {},
   "outputs": [
    {
     "data": {
      "text/plain": [
       "dict_keys(['total_time', 'strain', 'norm_stress', 'jacobian', 'gradient', 'total_vol', 'stress', 'plastic_energy'])"
      ]
     },
     "execution_count": 11,
     "metadata": {},
     "output_type": "execute_result"
    }
   ],
   "source": [
    "result.keys() "
   ]
  },
  {
   "cell_type": "code",
   "execution_count": 2,
   "id": "93f8a2fa",
   "metadata": {},
   "outputs": [
    {
     "name": "stdout",
     "output_type": "stream",
     "text": [
      "      input           output       \n",
      "     radius      size stress strain\n",
      "0  0.162553  1.325583    NaN    NaN\n",
      "1  0.250017  1.180081    NaN    NaN\n"
     ]
    }
   ],
   "source": [
    "# create the doe\n",
    "num_samples  = 2  # number of samples\n",
    "\n",
    "# define the doe\n",
    "radius = f3dasm.ContinuousParameter(\n",
    "    name=\"radius\", lower_bound=0.1, upper_bound=0.4\n",
    ")\n",
    "size = f3dasm.ContinuousParameter(\n",
    "    name=\"size\", lower_bound=1.0, upper_bound=1.5\n",
    ")\n",
    "# define the output\n",
    "stress = f3dasm.ContinuousParameter(name=\"stress\")\n",
    "strain = f3dasm.ContinuousParameter(name=\"strain\")\n",
    "\n",
    "design = f3dasm.DesignSpace(\n",
    "    input_space=[radius, size], output_space=[stress, strain]\n",
    ")\n",
    "\n",
    "sampler = f3dasm.sampling.LatinHypercube(design=design, seed=1)\n",
    "data = sampler.get_samples(numsamples=num_samples)\n",
    "print(data.data)"
   ]
  },
  {
   "cell_type": "code",
   "execution_count": 4,
   "id": "854e3bc2",
   "metadata": {},
   "outputs": [
    {
     "name": "stdout",
     "output_type": "stream",
     "text": [
      "/home/jiaxiangyi/Documents/rvesimulator/toturials/Data/case_0\n",
      "##################################################\n",
      "############ start abaqus simulation ############\n",
      "##################################################\n"
     ]
    },
    {
     "name": "stderr",
     "output_type": "stream",
     "text": [
      "Abaqus License Manager checked out the following license:\n",
      "\"cae\" from Flexnet server flexserv1.tudelft.nl\n",
      "<21 out of 30 licenses remain available>.\n"
     ]
    },
    {
     "name": "stdout",
     "output_type": "stream",
     "text": [
      "\n",
      "*** ABAQUS/ABQcaeK rank 0 terminated by signal 15 (Terminated)\n",
      "\n",
      "simulation time :25.001326 s\n",
      "##################################################\n",
      "############## abaqus post analysis ##############\n",
      "##################################################\n",
      "Abaqus Error: cae exited with an error.\n"
     ]
    },
    {
     "name": "stderr",
     "output_type": "stream",
     "text": [
      "Abaqus License Manager checked out the following license:\n",
      "\"cae\" from Flexnet server flexserv1.tudelft.nl\n",
      "<21 out of 30 licenses remain available>.\n"
     ]
    },
    {
     "name": "stdout",
     "output_type": "stream",
     "text": [
      "/home/jiaxiangyi/Documents/rvesimulator/toturials/Data/case_1\n",
      "##################################################\n",
      "############ start abaqus simulation ############\n",
      "##################################################\n"
     ]
    },
    {
     "name": "stderr",
     "output_type": "stream",
     "text": [
      "Abaqus License Manager checked out the following license:\n",
      "\"cae\" from Flexnet server flexserv1.tudelft.nl\n",
      "<21 out of 30 licenses remain available>.\n"
     ]
    },
    {
     "name": "stdout",
     "output_type": "stream",
     "text": [
      "\n",
      "*** ABAQUS/ABQcaeK rank 0 terminated by signal 15 (Terminated)\n",
      "\n",
      "simulation time :25.005024 s\n",
      "##################################################\n",
      "############## abaqus post analysis ##############\n",
      "##################################################\n",
      "Abaqus Error: cae exited with an error.\n"
     ]
    },
    {
     "name": "stderr",
     "output_type": "stream",
     "text": [
      "Abaqus License Manager checked out the following license:\n",
      "\"cae\" from Flexnet server flexserv1.tudelft.nl\n",
      "<21 out of 30 licenses remain available>.\n"
     ]
    }
   ],
   "source": [
    "results = simulator.run_f3dasm(data=data)"
   ]
  },
  {
   "cell_type": "code",
   "execution_count": 5,
   "id": "c729c520",
   "metadata": {},
   "outputs": [
    {
     "name": "stdout",
     "output_type": "stream",
     "text": [
      "      input                                                       output  \\\n",
      "     radius      size                                             stress   \n",
      "0  0.162553  1.325583  [[[0.0, 0.0], [0.0, 0.0]], [[0.853524012391832...   \n",
      "1  0.250017  1.180081  [[[0.0, 0.0], [0.0, 0.0]], [[0.705560575998447...   \n",
      "\n",
      "                                                      \n",
      "                                              strain  \n",
      "0  [[[0.0, 0.0], [0.0, 0.0]], [[0.005024999887123...  \n",
      "1  [[[0.0, 0.0], [0.0, 0.0]], [[0.005024999887123...  \n"
     ]
    }
   ],
   "source": [
    "print(results.data)"
   ]
  },
  {
   "cell_type": "code",
   "execution_count": 8,
   "id": "b223b5ae",
   "metadata": {},
   "outputs": [
    {
     "data": {
      "text/plain": [
       "[Text(0.5, 0, '$\\\\epsilon_{xy}$'), Text(0, 0.5, '$\\\\sigma_{xy}$ (MPa)')]"
      ]
     },
     "execution_count": 8,
     "metadata": {},
     "output_type": "execute_result"
    },
    {
     "data": {
      "image/png": "[encoded data removed]",
      "text/plain": [
       "<Figure size 1500x300 with 3 Axes>"
      ]
     },
     "metadata": {},
     "output_type": "display_data"
    }
   ],
   "source": [
    "responses = results.data['output']\n",
    "fig, ax = plt.subplots(1, 3, figsize=(15, 3))\n",
    "pparam = dict(xlabel=\"$\\epsilon_{xx}$\", ylabel=\"$\\sigma_{xx}$ (MPa)\")\n",
    "ax[0].plot(\n",
    "    responses[\"strain\"][0][:, 0, 0],\n",
    "    responses[\"stress\"][0][:, 0, 0],\n",
    "    label=f'radius= {results.data[\"input\"][\"radius\"][0]:3f}',\n",
    ")\n",
    "ax[0].plot(\n",
    "    responses[\"strain\"][1][:, 0, 0],\n",
    "    responses[\"stress\"][1][:, 0, 0],\n",
    "    label=f'radius= {results.data[\"input\"][\"radius\"][1]:3f}',\n",
    ")\n",
    "ax[0].legend()\n",
    "ax[0].set(**pparam)\n",
    "\n",
    "pparam = dict(xlabel=\"$\\epsilon_{yy}$\", ylabel=\"$\\sigma_{yy}$ (MPa)\")\n",
    "ax[1].plot(\n",
    "    responses[\"strain\"][0][:, 1, 1],\n",
    "    responses[\"stress\"][0][:, 1, 1],\n",
    "    label=f'radius= {results.data[\"input\"][\"radius\"][0]:3f}',\n",
    ")\n",
    "ax[1].plot(\n",
    "    responses[\"strain\"][1][:, 1, 1],\n",
    "    responses[\"stress\"][1][:, 1, 1],\n",
    "    label=f'radius= {results.data[\"input\"][\"radius\"][1]:3f}',\n",
    ")\n",
    "\n",
    "ax[1].legend()\n",
    "ax[1].set(**pparam)\n",
    "\n",
    "pparam = dict(xlabel=\"$\\epsilon_{xy}$\", ylabel=\"$\\sigma_{xy}$ (MPa)\")\n",
    "ax[2].plot(\n",
    "    responses[\"strain\"][0][:, 1, 0],\n",
    "    responses[\"stress\"][0][:, 1, 0],\n",
    "    label=f'radius= {results.data[\"input\"][\"radius\"][0]:2f}',\n",
    ")\n",
    "ax[2].plot(\n",
    "    responses[\"strain\"][1][:, 1, 0],\n",
    "    responses[\"stress\"][1][:, 1, 0],\n",
    "    label=f'radius= {results.data[\"input\"][\"radius\"][1]:2f}',\n",
    ")\n",
    "ax[2].legend()\n",
    "ax[2].set(**pparam)"
   ]
  }
 ],
 "metadata": {
  "kernelspec": {
   "display_name": "MLenv3",
   "language": "python",
   "name": "python3"
  },
  "language_info": {
   "codemirror_mode": {
    "name": "ipython",
    "version": 3
   },
   "file_extension": ".py",
   "mimetype": "text/x-python",
   "name": "python",
   "nbconvert_exporter": "python",
   "pygments_lexer": "ipython3",
   "version": "3.10.5"
  },
  "toc": {
   "base_numbering": 1,
   "nav_menu": {},
   "number_sections": true,
   "sideBar": true,
   "skip_h1_title": false,
   "title_cell": "Table of Contents",
   "title_sidebar": "Contents",
   "toc_cell": false,
   "toc_position": {},
   "toc_section_display": true,
   "toc_window_display": false
  },
  "varInspector": {
   "cols": {
    "lenName": 16,
    "lenType": 16,
    "lenVar": 40
   },
   "kernels_config": {
    "python": {
     "delete_cmd_postfix": "",
     "delete_cmd_prefix": "del ",
     "library": "var_list.py",
     "varRefreshCmd": "print(var_dic_list())"
    },
    "r": {
     "delete_cmd_postfix": ") ",
     "delete_cmd_prefix": "rm(",
     "library": "var_list.r",
     "varRefreshCmd": "cat(var_dic_list()) "
    }
   },
   "types_to_exclude": [
    "module",
    "function",
    "builtin_function_or_method",
    "instance",
    "_Feature"
   ],
   "window_display": false
  },
  "vscode": {
   "interpreter": {
    "hash": "a7ec99c0764c3ae073753260e70d5f074aece2b4c42e82c20841eabec9072993"
   }
  }
 },
 "nbformat": 4,
 "nbformat_minor": 5
}
