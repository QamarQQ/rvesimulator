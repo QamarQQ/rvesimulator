{
 "cells": [
  {
   "cell_type": "code",
   "execution_count": 1,
   "id": "b1198851",
   "metadata": {},
   "outputs": [
    {
     "name": "stderr",
     "output_type": "stream",
     "text": [
      "2023-04-03 19:39:05,066 - Imported f3dasm\n",
      "2023-04-03 19:39:06.513848: I tensorflow/core/util/port.cc:110] oneDNN custom operations are on. You may see slightly different numerical results due to floating-point round-off errors from different computation orders. To turn them off, set the environment variable `TF_ENABLE_ONEDNN_OPTS=0`.\n",
      "2023-04-03 19:39:06.555045: I tensorflow/core/platform/cpu_feature_guard.cc:182] This TensorFlow binary is optimized to use available CPU instructions in performance-critical operations.\n",
      "To enable the following instructions: AVX2 AVX512F AVX512_VNNI FMA, in other operations, rebuild TensorFlow with the appropriate compiler flags.\n",
      "2023-04-03 19:39:07.260719: W tensorflow/compiler/tf2tensorrt/utils/py_utils.cc:38] TF-TRT Warning: Could not find TensorRT\n",
      "2023-04-03 19:39:07,901 - None\n"
     ]
    },
    {
     "name": "stdout",
     "output_type": "stream",
     "text": [
      "\n",
      "f3dasm:\n",
      "       f3dasm: No __version__ attribute!\n",
      "\n",
      "System:\n",
      "    python: 3.10.5 | packaged by conda-forge | (main, Jun 14 2022, 07:04:59) [GCC 10.3.0]\n",
      "executable: /home/jiaxiangyi/anaconda3/envs/f3dasm_env/bin/python\n",
      "   machine: Linux-5.19.0-38-generic-x86_64-with-glibc2.35\n",
      "\n",
      "Core package dependencies:\n",
      "        numpy: 1.23.1\n",
      "        scipy: 1.9.0\n",
      "       pandas: 1.4.3\n",
      "   matplotlib: 3.5.2\n",
      "       pathos: 0.3.0\n",
      "        hydra: 1.3.2\n",
      "     autograd: No __version__ attribute!\n",
      "\n",
      "Machine learning extension:\n",
      "   tensorflow: 2.12.0\n",
      "\n",
      "Optimization extension:\n",
      "       GPyOpt: 1.2.6\n",
      "          GPy: 1.10.0\n",
      "   tensorflow: 2.12.0\n",
      "        pygmo: 2.19.0\n",
      "\n",
      "Sampling extension:\n",
      "        SALib: 1.4.5\n"
     ]
    }
   ],
   "source": [
    "# import packages \n",
    "import f3dasm\n",
    "from matplotlib import pyplot as plt\n",
    "\n",
    "from rvesimulator.cases.asca_rve import AscaRVE"
   ]
  },
  {
   "cell_type": "code",
   "execution_count": 2,
   "id": "c2e0c35c",
   "metadata": {},
   "outputs": [
    {
     "name": "stdout",
     "output_type": "stream",
     "text": [
      "Simulation information: \n",
      "\n",
      "{\n",
      "    \"length\": 0.048,\n",
      "    \"width\": 0.048,\n",
      "    \"radius_mu\": 0.003,\n",
      "    \"radius_std\": 0.0,\n",
      "    \"vol_req\": 0.3,\n",
      "    \"vol_frac\": 0.3067961575771284,\n",
      "    \"mesh_partition\": 100,\n",
      "    \"strain\": [\n",
      "        0.05,\n",
      "        0.0,\n",
      "        0.0\n",
      "    ],\n",
      "    \"simulation_time\": 1.0,\n",
      "    \"num_steps\": 100,\n",
      "    \"num_cpu\": 1,\n",
      "    \"platform\": \"ubuntu\",\n",
      "    \"hardening_law\": \"swift\",\n",
      "    \"hardening paras\": {\n",
      "        \"yield_stress\": 0.5,\n",
      "        \"a\": 0.2,\n",
      "        \"b\": 0.4\n",
      "    },\n",
      "    \"E_matrix\": 100.0,\n",
      "    \"Pr_matrix\": 0.3,\n",
      "    \"E_fiber\": 1.0,\n",
      "    \"Pr_fiber\": 0.19\n",
      "}\n"
     ]
    }
   ],
   "source": [
    "# initialize the rve simulator \n",
    "simulator = AscaRVE()\n",
    "simulator.update_sim_info(\n",
    "    hardening_law=\"swift\", yield_stress=0.5, a=0.2, b=0.4, print_info=True\n",
    ")"
   ]
  },
  {
   "cell_type": "code",
   "execution_count": 3,
   "id": "2827ba72",
   "metadata": {},
   "outputs": [
    {
     "name": "stdout",
     "output_type": "stream",
     "text": [
      "/home/jiaxiangyi/Documents/rvesimulator/toturials/Data/case_0\n",
      "##################################################\n",
      "############ start abaqus simulation ############\n",
      "##################################################\n"
     ]
    },
    {
     "name": "stderr",
     "output_type": "stream",
     "text": [
      "Abaqus License Manager checked out the following license:\n",
      "\"cae\" from Flexnet server flexserv1.tudelft.nl\n",
      "<20 out of 30 licenses remain available>.\n"
     ]
    },
    {
     "name": "stdout",
     "output_type": "stream",
     "text": [
      "\n",
      "*** ABAQUS/ABQcaeK rank 0 terminated by signal 15 (Terminated)\n",
      "\n",
      "simulation time :250.004314 s\n",
      "##################################################\n",
      "############## abaqus post analysis ##############\n",
      "##################################################\n",
      "Abaqus Error: cae exited with an error.\n"
     ]
    },
    {
     "name": "stderr",
     "output_type": "stream",
     "text": [
      "Abaqus License Manager checked out the following license:\n",
      "\"cae\" from Flexnet server flexserv1.tudelft.nl\n",
      "<22 out of 30 licenses remain available>.\n"
     ]
    }
   ],
   "source": [
    "samples = {'E_matrix': 200}  \n",
    "result = simulator.run_simulation(sample=samples, third_folder_index=0)"
   ]
  }
 ],
 "metadata": {
  "kernelspec": {
   "display_name": "f3dasm_env",
   "language": "python",
   "name": "python3"
  },
  "language_info": {
   "codemirror_mode": {
    "name": "ipython",
    "version": 3
   },
   "file_extension": ".py",
   "mimetype": "text/x-python",
   "name": "python",
   "nbconvert_exporter": "python",
   "pygments_lexer": "ipython3",
   "version": "3.10.5"
  },
  "toc": {
   "base_numbering": 1,
   "nav_menu": {},
   "number_sections": true,
   "sideBar": true,
   "skip_h1_title": false,
   "title_cell": "Table of Contents",
   "title_sidebar": "Contents",
   "toc_cell": false,
   "toc_position": {},
   "toc_section_display": true,
   "toc_window_display": false
  },
  "varInspector": {
   "cols": {
    "lenName": 16,
    "lenType": 16,
    "lenVar": 40
   },
   "kernels_config": {
    "python": {
     "delete_cmd_postfix": "",
     "delete_cmd_prefix": "del ",
     "library": "var_list.py",
     "varRefreshCmd": "print(var_dic_list())"
    },
    "r": {
     "delete_cmd_postfix": ") ",
     "delete_cmd_prefix": "rm(",
     "library": "var_list.r",
     "varRefreshCmd": "cat(var_dic_list()) "
    }
   },
   "types_to_exclude": [
    "module",
    "function",
    "builtin_function_or_method",
    "instance",
    "_Feature"
   ],
   "window_display": false
  },
  "vscode": {
   "interpreter": {
    "hash": "59e138612146ba1cdf76af2e78d3af7e462004fe6e617ccbd550542a13f0fa7c"
   }
  }
 },
 "nbformat": 4,
 "nbformat_minor": 5
}
