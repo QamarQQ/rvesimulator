{
 "cells": [
  {
   "cell_type": "code",
   "execution_count": 1,
   "id": "5493b833",
   "metadata": {},
   "outputs": [],
   "source": [
    "import os\n",
    "import sys\n",
    "from collections import OrderedDict\n",
    "\n",
    "from matplotlib import pyplot as plt\n",
    "\n",
    "# path of local project\n",
    "folder_path = \"/home/jiaxiangyi/Documents/yaga_phd\"\n",
    "sys.path.insert(0, folder_path)\n",
    "# insert local abaqusrve project\n",
    "folder_path = \"/home/jiaxiangyi/Documents/abaqusrve\"\n",
    "sys.path.insert(0, folder_path)\n",
    "# local\n",
    "import yaga_phd\n",
    "from yaga_phd.design_of_experiment.samplers import FixNumberSampler\n",
    "\n",
    "import abaqusrve\n",
    "from abaqusrve.cases.asca_rve import AscaRVE"
   ]
  },
  {
   "cell_type": "code",
   "execution_count": 3,
   "id": "6b951885",
   "metadata": {},
   "outputs": [
    {
     "name": "stdout",
     "output_type": "stream",
     "text": [
      "   E_matrix\n",
      "0     100.0\n",
      "1     100.0\n",
      "2     100.0\n",
      "  strain stress\n",
      "0    NaN    NaN\n",
      "1    NaN    NaN\n",
      "2    NaN    NaN\n"
     ]
    }
   ],
   "source": [
    "# create the doe\n",
    "# define the design space\n",
    "doe_variables = OrderedDict({\"E_matrix\": 100})\n",
    "# define number of samples\n",
    "num_points = 3\n",
    "# define the information of outputs\n",
    "name_outputs = [\"strain\", \"stress\"]\n",
    "doe_sampler = FixNumberSampler()\n",
    "doe_sampler.sampling(\n",
    "    num_samples=num_points,\n",
    "    design_space=doe_variables,\n",
    "    out_names=name_outputs,\n",
    "    seed=123456,\n",
    ")\n",
    "samples = doe_sampler.samples\n",
    "responses = doe_sampler.responses\n",
    "print(doe_sampler.samples)\n",
    "print(doe_sampler.responses)\n",
    "samples_dict = doe_sampler.samples.to_dict(\"records\")"
   ]
  },
  {
   "cell_type": "code",
   "execution_count": 4,
   "id": "2662b888",
   "metadata": {},
   "outputs": [
    {
     "name": "stdout",
     "output_type": "stream",
     "text": [
      "Simulation information: \n",
      "\n",
      "{\n",
      "    \"length\": 0.048,\n",
      "    \"width\": 0.048,\n",
      "    \"radius_mu\": 0.003,\n",
      "    \"radius_std\": 0.0,\n",
      "    \"vol_req\": 0.3,\n",
      "    \"vol_frac\": 0.3067961575771284,\n",
      "    \"mesh_partition\": 100,\n",
      "    \"strain\": [\n",
      "        0.05,\n",
      "        0.0,\n",
      "        0.0\n",
      "    ],\n",
      "    \"simulation_time\": 1.0,\n",
      "    \"num_steps\": 100,\n",
      "    \"num_cpu\": 1,\n",
      "    \"platform\": \"ubuntu\",\n",
      "    \"hardening_law\": \"swift\",\n",
      "    \"hardening paras\": {\n",
      "        \"yield_stress\": 0.5,\n",
      "        \"a\": 0.2,\n",
      "        \"b\": 0.4\n",
      "    },\n",
      "    \"E_matrix\": 100.0,\n",
      "    \"Pr_matrix\": 0.3,\n",
      "    \"E_fiber\": 1.0,\n",
      "    \"Pr_fiber\": 0.19\n",
      "}\n"
     ]
    }
   ],
   "source": [
    "# initialize the rve simulator \n",
    "simulator = AscaRVE()\n",
    "simulator.update_sim_info(\n",
    "    hardening_law=\"swift\", yield_stress=0.5, a=0.2, b=0.4, print_info=True\n",
    ")\n"
   ]
  },
  {
   "cell_type": "code",
   "execution_count": 5,
   "id": "2f18850c",
   "metadata": {},
   "outputs": [
    {
     "name": "stdout",
     "output_type": "stream",
     "text": [
      "/home/jiaxiangyi/Documents/abaqusrve/toturials/Data/case_0\n",
      "##################################################\n",
      "############ start abaqus simulation ############\n",
      "##################################################\n"
     ]
    },
    {
     "name": "stderr",
     "output_type": "stream",
     "text": [
      "Abaqus License Manager checked out the following license:\n",
      "\"cae\" from Flexnet server flexserv1.tudelft.nl\n",
      "<19 out of 30 licenses remain available>.\n"
     ]
    },
    {
     "name": "stdout",
     "output_type": "stream",
     "text": [
      "\n",
      "*** ABAQUS/ABQcaeK rank 0 terminated by signal 15 (Terminated)\n",
      "\n",
      "simulation time :210.004573 s\n",
      "##################################################\n",
      "############## abaqus post analysis ##############\n",
      "##################################################\n",
      "Abaqus Error: cae exited with an error.\n"
     ]
    },
    {
     "name": "stderr",
     "output_type": "stream",
     "text": [
      "Abaqus License Manager checked out the following license:\n",
      "\"cae\" from Flexnet server flexserv1.tudelft.nl\n",
      "<18 out of 30 licenses remain available>.\n"
     ]
    },
    {
     "name": "stdout",
     "output_type": "stream",
     "text": [
      "/home/jiaxiangyi/Documents/abaqusrve/toturials/Data/case_1\n",
      "##################################################\n",
      "############ start abaqus simulation ############\n",
      "##################################################\n"
     ]
    },
    {
     "name": "stderr",
     "output_type": "stream",
     "text": [
      "Abaqus License Manager checked out the following license:\n",
      "\"cae\" from Flexnet server flexserv1.tudelft.nl\n",
      "<18 out of 30 licenses remain available>.\n"
     ]
    },
    {
     "name": "stdout",
     "output_type": "stream",
     "text": [
      "\n",
      "*** ABAQUS/ABQcaeK rank 0 terminated by signal 15 (Terminated)\n",
      "\n",
      "simulation time :215.002743 s\n",
      "##################################################\n",
      "############## abaqus post analysis ##############\n",
      "##################################################\n",
      "Abaqus Error: cae exited with an error.\n"
     ]
    },
    {
     "name": "stderr",
     "output_type": "stream",
     "text": [
      "Abaqus License Manager checked out the following license:\n",
      "\"cae\" from Flexnet server flexserv1.tudelft.nl\n",
      "<19 out of 30 licenses remain available>.\n"
     ]
    },
    {
     "name": "stdout",
     "output_type": "stream",
     "text": [
      "/home/jiaxiangyi/Documents/abaqusrve/toturials/Data/case_2\n",
      "##################################################\n",
      "############ start abaqus simulation ############\n",
      "##################################################\n"
     ]
    },
    {
     "name": "stderr",
     "output_type": "stream",
     "text": [
      "Abaqus License Manager checked out the following license:\n",
      "\"cae\" from Flexnet server flexserv1.tudelft.nl\n",
      "<19 out of 30 licenses remain available>.\n"
     ]
    },
    {
     "name": "stdout",
     "output_type": "stream",
     "text": [
      "\n",
      "*** ABAQUS/ABQcaeK rank 0 terminated by signal 15 (Terminated)\n",
      "\n",
      "simulation time :210.004641 s\n",
      "##################################################\n",
      "############## abaqus post analysis ##############\n",
      "##################################################\n",
      "Abaqus Error: cae exited with an error.\n"
     ]
    },
    {
     "name": "stderr",
     "output_type": "stream",
     "text": [
      "Abaqus License Manager checked out the following license:\n",
      "\"cae\" from Flexnet server flexserv1.tudelft.nl\n",
      "<19 out of 30 licenses remain available>.\n"
     ]
    }
   ],
   "source": [
    "# calculate the initial responses of simulation\n",
    "for ii in range(len(samples_dict)):\n",
    "    results = simulator.run_simulation(\n",
    "        sample=samples_dict[ii], third_folder_index=ii\n",
    "    )\n",
    "    # update DoE information\n",
    "    for jj in range(len(list(responses.keys()))):\n",
    "        responses.at[ii, list(responses.keys())[jj]] = results[\n",
    "            list(responses.keys())[jj]\n",
    "        ]\n",
    "\n"
   ]
  },
  {
   "cell_type": "code",
   "execution_count": 7,
   "id": "184efb54",
   "metadata": {},
   "outputs": [
    {
     "data": {
      "image/png": "[encoded data removed]",
      "text/plain": [
       "<Figure size 500x400 with 1 Axes>"
      ]
     },
     "metadata": {},
     "output_type": "display_data"
    }
   ],
   "source": [
    "fig, ax = plt.subplots(figsize=(5, 4))\n",
    "pparam = dict(xlabel=\"$\\epsilon_{xx}$\", ylabel=\"$\\sigma_{xx}$ (MPa)\")\n",
    "ax.plot(\n",
    "    responses[\"strain\"][0][:, 0, 0],\n",
    "    responses[\"stress\"][0][:, 0, 0],\n",
    "    label='realization 1',\n",
    ")\n",
    "ax.plot(\n",
    "    responses[\"strain\"][1][:, 0, 0],\n",
    "    responses[\"stress\"][1][:, 0, 0],\n",
    "    label='realization 2',\n",
    ")\n",
    "ax.plot(\n",
    "    responses[\"strain\"][2][:, 0, 0],\n",
    "    responses[\"stress\"][2][:, 0, 0],\n",
    "    label='realization 3',\n",
    ")\n",
    "ax.legend()\n",
    "ax.set(**pparam)\n",
    "plt.title('simulation results')\n",
    "plt.show()"
   ]
  }
 ],
 "metadata": {
  "kernelspec": {
   "display_name": "MLenv3",
   "language": "python",
   "name": "python3"
  },
  "language_info": {
   "codemirror_mode": {
    "name": "ipython",
    "version": 3
   },
   "file_extension": ".py",
   "mimetype": "text/x-python",
   "name": "python",
   "nbconvert_exporter": "python",
   "pygments_lexer": "ipython3",
   "version": "3.10.6"
  },
  "toc": {
   "base_numbering": 1,
   "nav_menu": {},
   "number_sections": true,
   "sideBar": true,
   "skip_h1_title": false,
   "title_cell": "Table of Contents",
   "title_sidebar": "Contents",
   "toc_cell": false,
   "toc_position": {},
   "toc_section_display": true,
   "toc_window_display": false
  },
  "varInspector": {
   "cols": {
    "lenName": 16,
    "lenType": 16,
    "lenVar": 40
   },
   "kernels_config": {
    "python": {
     "delete_cmd_postfix": "",
     "delete_cmd_prefix": "del ",
     "library": "var_list.py",
     "varRefreshCmd": "print(var_dic_list())"
    },
    "r": {
     "delete_cmd_postfix": ") ",
     "delete_cmd_prefix": "rm(",
     "library": "var_list.r",
     "varRefreshCmd": "cat(var_dic_list()) "
    }
   },
   "types_to_exclude": [
    "module",
    "function",
    "builtin_function_or_method",
    "instance",
    "_Feature"
   ],
   "window_display": false
  },
  "vscode": {
   "interpreter": {
    "hash": "a7ec99c0764c3ae073753260e70d5f074aece2b4c42e82c20841eabec9072993"
   }
  }
 },
 "nbformat": 4,
 "nbformat_minor": 5
}
