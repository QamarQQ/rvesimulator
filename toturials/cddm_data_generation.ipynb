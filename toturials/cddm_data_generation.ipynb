{
 "cells": [
  {
   "attachments": {},
   "cell_type": "markdown",
   "metadata": {},
   "source": [
    "# Data generation of Path Dependent Representative Volume Elements(RVEs)"
   ]
  },
  {
   "attachments": {},
   "cell_type": "markdown",
   "metadata": {},
   "source": [
    "RVE simulation is an effective approach to explore constitutive laws of composites. Generally, An RVE has two material Phases which are matrix phase and fiber phase.  Figure 1 gives an illustration of micro-structure of a 2D RVE. \n",
    "\n",
    "\n",
    "<img src=\"figures/Schematic_of_RVE.png\" title=\"Car stopping distance\" width=\"50%\" align=\"right\"> \n",
    "\n",
    "<br>\n",
    "\n",
    "\n",
    "According to [Bessa et al.](https://www.sciencedirect.com/science/article/pii/S0045782516314803), microstructures, material properties, and loading conditions are three major variables which will influence the RVE properties. In order to exploit the advantages and limits of CDDM, several RVEs with similarities and differences are set up as different tasks. In detail, different tasks have different microstructures and material properties and apply the same dependent paths to generate the learning dataset"
   ]
  },
  {
   "attachments": {},
   "cell_type": "markdown",
   "metadata": {},
   "source": [
    "\n",
    "\n",
    "According to [Bessa et al.](https://www.sciencedirect.com/science/article/pii/S0045782516314803), "
   ]
  },
  {
   "attachments": {},
   "cell_type": "markdown",
   "metadata": {},
   "source": [
    "\n",
    "\n",
    "**Problem definition**\\\n",
    "In this part, we choose two design variables which are the micro-structure and the yield criterion and each of them do have two levels. \n",
    "- **Design variables** \\\n",
    "(1) micro-structure \\\n",
    "&nbsp; (A)$v_{frac} = 0.45$,  $L=0.048$ , $R_{mu}=0.01$, $R_{std}=0.003$ \\\n",
    "&nbsp; (B)$v_{frac} = 0.30$,  $L=0.048$ , $R_{mu}=0.003$, $R_{std}=0.0$ \\\n",
    "&nbsp; (C)$v_{frac} = 0.15$,  $L=0.048$ , $R_{mu}=0.0015$, $R_{std}=0.00005$ \\\n",
    "(2) hardening law \\\n",
    "&nbsp; linear:  (a) $\\sigma_{y} = 0.5+0.5\\bar\\epsilon$ \\\n",
    "&nbsp;  swift:(b) $\\sigma_{y} = 0.5+0.5(\\bar\\epsilon)^{0.4}$   \n",
    "&nbsp;  ramberg: (c) $\\sigma_{y} = 0.5(1+ \\bar\\epsilon)^{1/0.4}$   \n",
    "&nbsp; swift: (d) $\\sigma_{y} = 3+0.5(\\bar\\epsilon)^{0.4}$   \n",
    "(3) young's modulus for fibers  \\\n",
    "&nbsp;  (I) $E_{fiber}=1$ MPa \\\n",
    "&nbsp;  (II) $E_{fiber} =10$ MPa \\\n",
    "&nbsp;  (III) $E_{fiber} =1000$ MPa   \n",
    " \n",
    " - **how to set up the tasks** \\\n",
    " In order to set up the tasks properly, we select a value from each variable ramdomly and assemble them together as the final tasks. For instance, we may get samples with A, a, and I, in this case, the first task would be \"AaI\".\n",
    "\n",
    " Therefore, we can set up the tasks as: \n",
    " > Task 1: AaII \\\n",
    " > Task 2: BbI \\\n",
    " > Task 3: CcIII \\\n",
    " > Taks 4: BdIV "
   ]
  },
  {
   "cell_type": "code",
   "execution_count": null,
   "metadata": {},
   "outputs": [],
   "source": []
  }
 ],
 "metadata": {
  "kernelspec": {
   "display_name": "f3dasm_env",
   "language": "python",
   "name": "python3"
  },
  "language_info": {
   "name": "python",
   "version": "3.10.5"
  },
  "orig_nbformat": 4
 },
 "nbformat": 4,
 "nbformat_minor": 2
}
